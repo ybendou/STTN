{
 "cells": [
  {
   "cell_type": "code",
   "execution_count": 2,
   "metadata": {},
   "outputs": [
    {
     "name": "stdout",
     "output_type": "stream",
     "text": [
      "yes\n"
     ]
    }
   ],
   "source": [
    "from PIL import Image\n",
    "import numpy as np \n",
    "import xarray as xr\n",
    "import os\n",
    "import cv2 \n",
    "\n",
    "from torchvision import transforms\n",
    "import torch\n",
    "\n",
    "image = cv2.imread('../cat.png')\n",
    "\n",
    "frames = [image]*365\n",
    "\n",
    "SAVEMODE=True\n",
    "\n",
    "for i in range(len(frames)):\n",
    "    if SAVEMODE : \n",
    "        image =  cv2.imwrite(f'./static_cat/image_{i}.png', frames[i]) \n",
    "\n",
    "\n",
    "def save():\n",
    "    os.system(\"ffmpeg -r 10 -i static_cat/image_%01d.png -vcodec mpeg4 -y static_video.mp4\")\n",
    "\n",
    "if SAVEMODE : \n",
    "    print('yes')\n",
    "    save()\n"
   ]
  },
  {
   "cell_type": "code",
   "execution_count": null,
   "metadata": {},
   "outputs": [],
   "source": []
  }
 ],
 "metadata": {
  "kernelspec": {
   "display_name": "sttn",
   "language": "python",
   "name": "sttn"
  },
  "language_info": {
   "codemirror_mode": {
    "name": "ipython",
    "version": 3
   },
   "file_extension": ".py",
   "mimetype": "text/x-python",
   "name": "python",
   "nbconvert_exporter": "python",
   "pygments_lexer": "ipython3",
   "version": "3.6.3"
  }
 },
 "nbformat": 4,
 "nbformat_minor": 2
}
